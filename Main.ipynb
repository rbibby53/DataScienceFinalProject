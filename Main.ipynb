{
 "cells": [
  {
   "cell_type": "code",
   "execution_count": 1,
   "id": "initial_id",
   "metadata": {
    "collapsed": true,
    "ExecuteTime": {
     "end_time": "2023-09-29T22:31:30.185788300Z",
     "start_time": "2023-09-29T22:31:30.177449200Z"
    }
   },
   "outputs": [],
   "source": [
    "#Ryan Bibby, using dataset from https://catalog.data.gov/dataset/death-rates-for-suicide-by-sex-race-hispanic-origin-and-age-united-states-020c1\n",
    "#Comparing suicide rates between men and women in the US from 1950 to 2018\n",
    "#The questions I am asking are; Have suicide rates gonw up over time? Is the suicide rate higher for one gender or another? "
   ]
  },
  {
   "cell_type": "code",
   "execution_count": 2,
   "outputs": [],
   "source": [
    "#Python packages import\n",
    "import pandas as pd\n",
    "from matplotlib import pyplot as plt"
   ],
   "metadata": {
    "collapsed": false,
    "ExecuteTime": {
     "end_time": "2023-09-29T22:31:31.347319900Z",
     "start_time": "2023-09-29T22:31:30.185285800Z"
    }
   },
   "id": "d934685504ee5177"
  },
  {
   "cell_type": "code",
   "execution_count": 3,
   "outputs": [],
   "source": [
    "DeathRates = pd.read_csv('death_rates.csv')"
   ],
   "metadata": {
    "collapsed": false,
    "ExecuteTime": {
     "end_time": "2023-09-29T22:31:31.369962200Z",
     "start_time": "2023-09-29T22:31:31.348320400Z"
    }
   },
   "id": "73d858d9a5d933b9"
  },
  {
   "cell_type": "code",
   "execution_count": 3,
   "outputs": [],
   "source": [],
   "metadata": {
    "collapsed": false,
    "ExecuteTime": {
     "end_time": "2023-09-29T22:31:31.387535Z",
     "start_time": "2023-09-29T22:31:31.370963100Z"
    }
   },
   "id": "793c3bfa642fb91a"
  }
 ],
 "metadata": {
  "kernelspec": {
   "display_name": "Python 3",
   "language": "python",
   "name": "python3"
  },
  "language_info": {
   "codemirror_mode": {
    "name": "ipython",
    "version": 2
   },
   "file_extension": ".py",
   "mimetype": "text/x-python",
   "name": "python",
   "nbconvert_exporter": "python",
   "pygments_lexer": "ipython2",
   "version": "2.7.6"
  }
 },
 "nbformat": 4,
 "nbformat_minor": 5
}
